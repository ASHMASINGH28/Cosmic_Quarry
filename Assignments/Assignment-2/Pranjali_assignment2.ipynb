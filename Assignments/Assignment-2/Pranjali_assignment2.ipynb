{
  "cells": [
    {
      "cell_type": "markdown",
      "id": "13dec6b2",
      "metadata": {
        "id": "13dec6b2"
      },
      "source": [
        "## Section 1: Python Basics\n",
        "Learn about Python syntax, data types, and basic programming constructs."
      ]
    },
    {
      "cell_type": "code",
      "execution_count": 1,
      "id": "e5446f8b",
      "metadata": {
        "colab": {
          "base_uri": "https://localhost:8080/"
        },
        "id": "e5446f8b",
        "outputId": "519de935-c684-4357-ba7b-1eb3e24a16fc"
      },
      "outputs": [
        {
          "output_type": "stream",
          "name": "stdout",
          "text": [
            "Welcome to Python Basics!\n"
          ]
        }
      ],
      "source": [
        "print(\"Welcome to Python Basics!\")"
      ]
    },
    {
      "cell_type": "code",
      "execution_count": 2,
      "id": "99f67332",
      "metadata": {
        "colab": {
          "base_uri": "https://localhost:8080/"
        },
        "id": "99f67332",
        "outputId": "7a78e80b-17e0-45cc-8d26-8f593b0bd3ab"
      },
      "outputs": [
        {
          "output_type": "stream",
          "name": "stdout",
          "text": [
            "10 3.5 Hello\n"
          ]
        }
      ],
      "source": [
        "a = 10\n",
        "b = 3.5\n",
        "c = \"Hello\"\n",
        "print(a, b, c)"
      ]
    },
    {
      "cell_type": "code",
      "execution_count": 3,
      "id": "6c1c333d",
      "metadata": {
        "colab": {
          "base_uri": "https://localhost:8080/"
        },
        "id": "6c1c333d",
        "outputId": "6e4d87e5-a19b-44bf-f8cd-855bc3d1262d"
      },
      "outputs": [
        {
          "output_type": "stream",
          "name": "stdout",
          "text": [
            "List: [1, 2, 3, 4]\n"
          ]
        }
      ],
      "source": [
        "my_list = [1, 2, 3, 4]\n",
        "print(\"List:\", my_list)"
      ]
    },
    {
      "cell_type": "code",
      "execution_count": 4,
      "id": "a8141aff",
      "metadata": {
        "colab": {
          "base_uri": "https://localhost:8080/"
        },
        "id": "a8141aff",
        "outputId": "71994854-ac08-43d1-d338-81181e6294e8"
      },
      "outputs": [
        {
          "output_type": "stream",
          "name": "stdout",
          "text": [
            "Tuple: (1, 2, 3)\n",
            "Set: {1, 2, 3}\n"
          ]
        }
      ],
      "source": [
        "my_tuple = (1, 2, 3)\n",
        "my_set = {1, 2, 2, 3}\n",
        "print(\"Tuple:\", my_tuple)\n",
        "print(\"Set:\", my_set)"
      ]
    },
    {
      "cell_type": "code",
      "execution_count": 5,
      "id": "22f16d74",
      "metadata": {
        "colab": {
          "base_uri": "https://localhost:8080/"
        },
        "id": "22f16d74",
        "outputId": "0d1fa00a-f47a-434d-e59e-9d4f29b555de"
      },
      "outputs": [
        {
          "output_type": "stream",
          "name": "stdout",
          "text": [
            "Dictionary: {'name': 'Alice', 'age': 25}\n"
          ]
        }
      ],
      "source": [
        "my_dict = {\"name\": \"Alice\", \"age\": 25}\n",
        "print(\"Dictionary:\", my_dict)"
      ]
    },
    {
      "cell_type": "code",
      "execution_count": 6,
      "id": "03fcd443",
      "metadata": {
        "colab": {
          "base_uri": "https://localhost:8080/"
        },
        "id": "03fcd443",
        "outputId": "8977bece-da91-439d-b9ae-c88d0fe007fa"
      },
      "outputs": [
        {
          "output_type": "stream",
          "name": "stdout",
          "text": [
            "Element: 1\n",
            "Element: 2\n",
            "Element: 3\n",
            "Element: 4\n"
          ]
        }
      ],
      "source": [
        "for i in my_list:\n",
        "    print(\"Element:\", i)"
      ]
    },
    {
      "cell_type": "code",
      "execution_count": 7,
      "id": "a1b4db97",
      "metadata": {
        "colab": {
          "base_uri": "https://localhost:8080/"
        },
        "id": "a1b4db97",
        "outputId": "4379abf7-4dfa-46b3-deae-3421d00b9dab"
      },
      "outputs": [
        {
          "output_type": "stream",
          "name": "stdout",
          "text": [
            "Positive\n"
          ]
        }
      ],
      "source": [
        "x = 5\n",
        "if x > 0:\n",
        "    print(\"Positive\")\n",
        "elif x == 0:\n",
        "    print(\"Zero\")\n",
        "else:\n",
        "    print(\"Negative\")"
      ]
    },
    {
      "cell_type": "code",
      "execution_count": 8,
      "id": "7b1e1274",
      "metadata": {
        "colab": {
          "base_uri": "https://localhost:8080/"
        },
        "id": "7b1e1274",
        "outputId": "9bf3c33a-0aa5-4b60-cfa2-699ebddffc04"
      },
      "outputs": [
        {
          "output_type": "stream",
          "name": "stdout",
          "text": [
            "Hello, Student!\n"
          ]
        }
      ],
      "source": [
        "def greet(name):\n",
        "    return f\"Hello, {name}!\"\n",
        "\n",
        "print(greet(\"Student\"))"
      ]
    },
    {
      "cell_type": "markdown",
      "id": "37588d84",
      "metadata": {
        "id": "37588d84"
      },
      "source": [
        "## Section 2: NumPy Basics\n",
        "Use NumPy for array operations, reshaping, and simulating image pixel data."
      ]
    },
    {
      "cell_type": "code",
      "execution_count": 9,
      "id": "612d97fd",
      "metadata": {
        "id": "612d97fd"
      },
      "outputs": [],
      "source": [
        "import numpy as np"
      ]
    },
    {
      "cell_type": "code",
      "execution_count": 10,
      "id": "3f1c64ed",
      "metadata": {
        "colab": {
          "base_uri": "https://localhost:8080/"
        },
        "id": "3f1c64ed",
        "outputId": "63356bca-fbd6-40a4-a063-e9ae7c1c09f0"
      },
      "outputs": [
        {
          "output_type": "stream",
          "name": "stdout",
          "text": [
            "Numpy Array: [1 2 3]\n"
          ]
        }
      ],
      "source": [
        "arr = np.array([1, 2, 3])\n",
        "print(\"Numpy Array:\", arr)"
      ]
    },
    {
      "cell_type": "code",
      "execution_count": 11,
      "id": "3f7fa076",
      "metadata": {
        "colab": {
          "base_uri": "https://localhost:8080/"
        },
        "id": "3f7fa076",
        "outputId": "697c9836-c426-4c24-9da7-b1be1b91e942"
      },
      "outputs": [
        {
          "output_type": "stream",
          "name": "stdout",
          "text": [
            "Mean: 2.0\n",
            "Sum: 6\n"
          ]
        }
      ],
      "source": [
        "print(\"Mean:\", np.mean(arr))\n",
        "print(\"Sum:\", np.sum(arr))"
      ]
    },
    {
      "cell_type": "code",
      "execution_count": 12,
      "id": "4c0fcb11",
      "metadata": {
        "colab": {
          "base_uri": "https://localhost:8080/"
        },
        "id": "4c0fcb11",
        "outputId": "f12c3815-1276-47fb-d30e-f01f72b4acb4"
      },
      "outputs": [
        {
          "output_type": "stream",
          "name": "stdout",
          "text": [
            "Matrix: [[1 2]\n",
            " [3 4]]\n"
          ]
        }
      ],
      "source": [
        "mat = np.array([[1, 2], [3, 4]])\n",
        "print(\"Matrix:\", mat)"
      ]
    },
    {
      "cell_type": "code",
      "execution_count": 13,
      "id": "00ff349d",
      "metadata": {
        "colab": {
          "base_uri": "https://localhost:8080/"
        },
        "id": "00ff349d",
        "outputId": "6f4e0d50-5e54-4f25-ff20-9c98bd3154d6"
      },
      "outputs": [
        {
          "output_type": "stream",
          "name": "stdout",
          "text": [
            "Random Array:\n",
            " [[0.69699358 0.78771004 0.40977081]\n",
            " [0.52158955 0.78953106 0.25520233]\n",
            " [0.54145601 0.40161167 0.027557  ]]\n"
          ]
        }
      ],
      "source": [
        "rand_arr = np.random.rand(3, 3)\n",
        "print(\"Random Array:\\n\", rand_arr)"
      ]
    },
    {
      "cell_type": "code",
      "execution_count": 14,
      "id": "9a4d34c2",
      "metadata": {
        "colab": {
          "base_uri": "https://localhost:8080/"
        },
        "id": "9a4d34c2",
        "outputId": "3452024d-fd3d-4612-f674-276b02dd949d"
      },
      "outputs": [
        {
          "output_type": "stream",
          "name": "stdout",
          "text": [
            "Reshaped Array:\n",
            " [[ 0  1  2  3]\n",
            " [ 4  5  6  7]\n",
            " [ 8  9 10 11]]\n"
          ]
        }
      ],
      "source": [
        "reshaped = np.arange(12).reshape(3, 4)\n",
        "print(\"Reshaped Array:\\n\", reshaped)"
      ]
    },
    {
      "cell_type": "code",
      "execution_count": 15,
      "id": "b3483b9e",
      "metadata": {
        "colab": {
          "base_uri": "https://localhost:8080/"
        },
        "id": "b3483b9e",
        "outputId": "3b1ff672-8c70-4326-c224-4af45532e396"
      },
      "outputs": [
        {
          "output_type": "stream",
          "name": "stdout",
          "text": [
            "Broadcasted Array: [11 12 13]\n",
            "Sliced Array:\n",
            " [[ 5  6  7]\n",
            " [ 9 10 11]]\n"
          ]
        }
      ],
      "source": [
        "broadcasted = arr + 10\n",
        "print(\"Broadcasted Array:\", broadcasted)\n",
        "indexing = reshaped[1:, 1:]\n",
        "print(\"Sliced Array:\\n\", indexing)"
      ]
    },
    {
      "cell_type": "code",
      "execution_count": 16,
      "id": "a5211f0a",
      "metadata": {
        "colab": {
          "base_uri": "https://localhost:8080/"
        },
        "id": "a5211f0a",
        "outputId": "39330c71-881a-429a-f0e8-480a14a9c92a"
      },
      "outputs": [
        {
          "output_type": "stream",
          "name": "stdout",
          "text": [
            "Simulated Grayscale Image Array:\n",
            " [[ 88 151 101 215  30]\n",
            " [144 171  55  36  15]\n",
            " [124  36   5  82  47]\n",
            " [ 51  34  87  48 221]\n",
            " [ 63 255 172 248 100]]\n"
          ]
        }
      ],
      "source": [
        "img = np.random.randint(0, 256, (5, 5), dtype=np.uint8)\n",
        "print(\"Simulated Grayscale Image Array:\\n\", img)"
      ]
    },
    {
      "cell_type": "markdown",
      "id": "2fac33e9",
      "metadata": {
        "id": "2fac33e9"
      },
      "source": [
        "## Section 3: Pandas Basics\n",
        "Manipulate tabular data with DataFrames: filtering, grouping, and merging."
      ]
    },
    {
      "cell_type": "code",
      "execution_count": 17,
      "id": "093d1632",
      "metadata": {
        "id": "093d1632"
      },
      "outputs": [],
      "source": [
        "import pandas as pd"
      ]
    },
    {
      "cell_type": "code",
      "execution_count": 18,
      "id": "01a61e99",
      "metadata": {
        "colab": {
          "base_uri": "https://localhost:8080/"
        },
        "id": "01a61e99",
        "outputId": "9359a6b7-73c3-4f2c-cd69-ac8538f19165"
      },
      "outputs": [
        {
          "output_type": "stream",
          "name": "stdout",
          "text": [
            "DataFrame:\n",
            "       Name  Age  Marks\n",
            "0    Alice   25     85\n",
            "1      Bob   30     90\n",
            "2  Charlie   35     95\n"
          ]
        }
      ],
      "source": [
        "data = {\n",
        "    'Name': ['Alice', 'Bob', 'Charlie'],\n",
        "    'Age': [25, 30, 35],\n",
        "    'Marks': [85, 90, 95]\n",
        "}\n",
        "df = pd.DataFrame(data)\n",
        "print(\"DataFrame:\\n\", df)"
      ]
    },
    {
      "cell_type": "code",
      "execution_count": 19,
      "id": "34cff9a1",
      "metadata": {
        "colab": {
          "base_uri": "https://localhost:8080/"
        },
        "id": "34cff9a1",
        "outputId": "94e22c1c-9144-452d-82b1-e762b3ca4a26"
      },
      "outputs": [
        {
          "output_type": "stream",
          "name": "stdout",
          "text": [
            "Describe:\n",
            "         Age  Marks\n",
            "count   3.0    3.0\n",
            "mean   30.0   90.0\n",
            "std     5.0    5.0\n",
            "min    25.0   85.0\n",
            "25%    27.5   87.5\n",
            "50%    30.0   90.0\n",
            "75%    32.5   92.5\n",
            "max    35.0   95.0\n",
            "Select Name column:\n",
            " 0      Alice\n",
            "1        Bob\n",
            "2    Charlie\n",
            "Name: Name, dtype: object\n"
          ]
        }
      ],
      "source": [
        "print(\"Describe:\\n\", df.describe())\n",
        "print(\"Select Name column:\\n\", df['Name'])"
      ]
    },
    {
      "cell_type": "code",
      "execution_count": 20,
      "id": "c88cd2d3",
      "metadata": {
        "colab": {
          "base_uri": "https://localhost:8080/"
        },
        "id": "c88cd2d3",
        "outputId": "ee73da34-a522-4df5-a7a3-b8992c3e4f0c"
      },
      "outputs": [
        {
          "output_type": "stream",
          "name": "stdout",
          "text": [
            "Age < 30:\n",
            "     Name  Age  Marks\n",
            "0  Alice   25     85\n"
          ]
        }
      ],
      "source": [
        "young = df[df['Age'] < 30]\n",
        "print(\"Age < 30:\\n\", young)"
      ]
    },
    {
      "cell_type": "code",
      "execution_count": 21,
      "id": "fed28a33",
      "metadata": {
        "colab": {
          "base_uri": "https://localhost:8080/"
        },
        "id": "fed28a33",
        "outputId": "483604e0-a0ac-4103-f2fd-fbf1e9ad1b90"
      },
      "outputs": [
        {
          "output_type": "stream",
          "name": "stdout",
          "text": [
            "With Passed Column:\n",
            "       Name  Age  Marks  Passed\n",
            "0    Alice   25     85    True\n",
            "1      Bob   30     90    True\n",
            "2  Charlie   35     95    True\n"
          ]
        }
      ],
      "source": [
        "df['Passed'] = df['Marks'] > 80\n",
        "print(\"With Passed Column:\\n\", df)"
      ]
    },
    {
      "cell_type": "code",
      "execution_count": 22,
      "id": "4c343800",
      "metadata": {
        "colab": {
          "base_uri": "https://localhost:8080/"
        },
        "id": "4c343800",
        "outputId": "bbf7e654-692e-4fae-8810-62220d0bf24e"
      },
      "outputs": [
        {
          "output_type": "stream",
          "name": "stdout",
          "text": [
            "Group By Passed:\n",
            " Passed\n",
            "True    90.0\n",
            "Name: Marks, dtype: float64\n"
          ]
        }
      ],
      "source": [
        "grouped = df.groupby('Passed')['Marks'].mean()\n",
        "print(\"Group By Passed:\\n\", grouped)"
      ]
    },
    {
      "cell_type": "code",
      "execution_count": 23,
      "id": "162957bc",
      "metadata": {
        "colab": {
          "base_uri": "https://localhost:8080/"
        },
        "id": "162957bc",
        "outputId": "38dc0b65-9682-4ac7-d6e0-7ef9e61b44f9"
      },
      "outputs": [
        {
          "output_type": "stream",
          "name": "stdout",
          "text": [
            "With Missing Data:\n",
            "       Name  Age  Marks  Passed\n",
            "0    Alice   25   85.0    True\n",
            "1      Bob   30    NaN    True\n",
            "2  Charlie   35   95.0    True\n",
            "Filled Missing Marks:\n",
            " 0    85.0\n",
            "1    90.0\n",
            "2    95.0\n",
            "Name: Marks, dtype: float64\n"
          ]
        }
      ],
      "source": [
        "df_missing = df.copy()\n",
        "df_missing.loc[1, 'Marks'] = None\n",
        "print(\"With Missing Data:\\n\", df_missing)\n",
        "print(\"Filled Missing Marks:\\n\", df_missing['Marks'].fillna(df_missing['Marks'].mean()))"
      ]
    },
    {
      "cell_type": "code",
      "execution_count": 24,
      "id": "201cfd23",
      "metadata": {
        "colab": {
          "base_uri": "https://localhost:8080/"
        },
        "id": "201cfd23",
        "outputId": "c940797b-a41c-4994-daac-e35624bf2486"
      },
      "outputs": [
        {
          "output_type": "stream",
          "name": "stdout",
          "text": [
            "Merged DataFrame:\n",
            "       Name  Age  Marks  Passed  Subject\n",
            "0    Alice   25     85    True     Math\n",
            "1      Bob   30     90    True  Science\n",
            "2  Charlie   35     95    True  History\n"
          ]
        }
      ],
      "source": [
        "df_extra = pd.DataFrame({\n",
        "    'Name': ['Alice', 'Bob', 'Charlie'],\n",
        "    'Subject': ['Math', 'Science', 'History']\n",
        "})\n",
        "merged = pd.merge(df, df_extra, on='Name')\n",
        "print(\"Merged DataFrame:\\n\", merged)"
      ]
    },
    {
      "cell_type": "markdown",
      "id": "9e628a78",
      "metadata": {
        "id": "9e628a78"
      },
      "source": [
        "## Section 4: Matplotlib Basics\n",
        "Create visualizations like line charts, bar plots, scatter plots, and pie charts."
      ]
    },
    {
      "cell_type": "code",
      "execution_count": 25,
      "id": "3a4ec6a7",
      "metadata": {
        "id": "3a4ec6a7"
      },
      "outputs": [],
      "source": [
        "import matplotlib.pyplot as plt"
      ]
    },
    {
      "cell_type": "code",
      "execution_count": 26,
      "id": "1ae3b13b",
      "metadata": {
        "colab": {
          "base_uri": "https://localhost:8080/",
          "height": 472
        },
        "id": "1ae3b13b",
        "outputId": "a53f9936-4817-47a0-a5aa-a087b0d18d86"
      },
      "outputs": [
        {
          "output_type": "display_data",
          "data": {
            "text/plain": [
              "<Figure size 640x480 with 1 Axes>"
            ],
            "image/png": "[encoded data removed]"
          },
          "metadata": {}
        }
      ],
      "source": [
        "plt.plot([1, 2, 3], [5, 7, 4])\n",
        "plt.title(\"Line Plot\")\n",
        "plt.xlabel(\"X-axis\")\n",
        "plt.ylabel(\"Y-axis\")\n",
        "plt.grid(True)\n",
        "plt.show()"
      ]
    },
    {
      "cell_type": "code",
      "execution_count": 27,
      "id": "be587def",
      "metadata": {
        "colab": {
          "base_uri": "https://localhost:8080/",
          "height": 472
        },
        "id": "be587def",
        "outputId": "03594888-eb53-40f1-9775-9f5cad99c99c"
      },
      "outputs": [
        {
          "output_type": "display_data",
          "data": {
            "text/plain": [
              "<Figure size 640x480 with 1 Axes>"
            ],
            "image/png": "[encoded data removed]"
          },
          "metadata": {}
        }
      ],
      "source": [
        "plt.bar(df['Name'], df['Marks'], color='orange')\n",
        "plt.title(\"Marks of Students\")\n",
        "plt.xlabel(\"Students\")\n",
        "plt.ylabel(\"Marks\")\n",
        "plt.show()"
      ]
    },
    {
      "cell_type": "code",
      "execution_count": 28,
      "id": "ab573758",
      "metadata": {
        "colab": {
          "base_uri": "https://localhost:8080/",
          "height": 472
        },
        "id": "ab573758",
        "outputId": "e2de3a2b-8414-4e8b-af9e-502839525456"
      },
      "outputs": [
        {
          "output_type": "display_data",
          "data": {
            "text/plain": [
              "<Figure size 640x480 with 1 Axes>"
            ],
            "image/png": "[encoded data removed]"
          },
          "metadata": {}
        }
      ],
      "source": [
        "plt.hist(df['Marks'], bins=5)\n",
        "plt.title(\"Histogram of Marks\")\n",
        "plt.xlabel(\"Marks\")\n",
        "plt.ylabel(\"Frequency\")\n",
        "plt.show()"
      ]
    },
    {
      "cell_type": "code",
      "execution_count": 29,
      "id": "d29f59f3",
      "metadata": {
        "colab": {
          "base_uri": "https://localhost:8080/",
          "height": 472
        },
        "id": "d29f59f3",
        "outputId": "bd0a8dc6-48fb-411a-9c42-d2d08a60ca30"
      },
      "outputs": [
        {
          "output_type": "display_data",
          "data": {
            "text/plain": [
              "<Figure size 640x480 with 1 Axes>"
            ],
            "image/png": "[encoded data removed]"
          },
          "metadata": {}
        }
      ],
      "source": [
        "plt.scatter(df['Age'], df['Marks'])\n",
        "plt.title(\"Age vs Marks\")\n",
        "plt.xlabel(\"Age\")\n",
        "plt.ylabel(\"Marks\")\n",
        "plt.show()"
      ]
    },
    {
      "cell_type": "code",
      "execution_count": 30,
      "id": "210a05a3",
      "metadata": {
        "colab": {
          "base_uri": "https://localhost:8080/",
          "height": 428
        },
        "id": "210a05a3",
        "outputId": "05075795-bd8d-4b30-e126-bd6158f9bb31"
      },
      "outputs": [
        {
          "output_type": "display_data",
          "data": {
            "text/plain": [
              "<Figure size 640x480 with 1 Axes>"
            ],
            "image/png": "[encoded data removed]"
          },
          "metadata": {}
        }
      ],
      "source": [
        "plt.pie(df['Marks'], labels=df['Name'], autopct='%1.1f%%')\n",
        "plt.title(\"Marks Distribution\")\n",
        "plt.show()"
      ]
    },
    {
      "cell_type": "markdown",
      "id": "82ef1d2b",
      "metadata": {
        "id": "82ef1d2b"
      },
      "source": [
        "## Section 5: Exercises\n",
        "Practice problems to reinforce concepts in NumPy, Pandas, and Matplotlib."
      ]
    },
    {
      "cell_type": "code",
      "execution_count": 31,
      "id": "55987679",
      "metadata": {
        "id": "55987679"
      },
      "outputs": [],
      "source": [
        "# 1. Create a NumPy array of 10 numbers and calculate mean and std deviation\n",
        "# 2. Load a CSV file using Pandas (or create one manually)\n",
        "# 3. Plot a histogram of a numerical column using Matplotlib\n",
        "# 4. Filter a DataFrame for rows with marks > 90\n",
        "# 5. Use a scatter plot to visualize relationship between Age and Marks\n",
        "# 6. Try reading an Excel file using pd.read_excel if you have one\n",
        "# 7. Merge two DataFrames on a common column\n",
        "# 8. Handle missing values in a DataFrame\n",
        "# 9. Simulate a grayscale image and display its pixel values using NumPy"
      ]
    },
    {
      "cell_type": "code",
      "source": [
        "# 1. Create a NumPy array of 10 numbers and calculate mean and std deviation\n",
        "def std_deviation(x):\n",
        "  return np.sqrt(np.sum(np.square(x - np.mean(x)))/len(x))\n",
        "\n",
        "arr = np.random.rand(10)\n",
        "\n",
        "print(\"Array : \", arr)\n",
        "print(\"Mean : \", np.mean(arr))\n",
        "print(\"std deviation : \", std_deviation(arr))"
      ],
      "metadata": {
        "colab": {
          "base_uri": "https://localhost:8080/"
        },
        "id": "-eYreezcG51u",
        "outputId": "60ed06fc-506d-478a-8090-a481bfaccf92"
      },
      "id": "-eYreezcG51u",
      "execution_count": 32,
      "outputs": [
        {
          "output_type": "stream",
          "name": "stdout",
          "text": [
            "Array :  [0.33378068 0.24283598 0.55241449 0.07481168 0.17007876 0.53281014\n",
            " 0.23088737 0.91386855 0.14746421 0.44188277]\n",
            "Mean :  0.3640834623991912\n",
            "std deviation :  0.2395524862077418\n"
          ]
        }
      ]
    },
    {
      "cell_type": "code",
      "source": [
        "# 2. Load a CSV file using Pandas (or create one manually)\n",
        "df = pd.read_csv('student_age_marks.csv')\n",
        "print(df.head()) #printing first 5 rows"
      ],
      "metadata": {
        "colab": {
          "base_uri": "https://localhost:8080/"
        },
        "id": "v0G2lglAHhls",
        "outputId": "45ff19e1-0a8e-4c80-ff4a-c563329b714f"
      },
      "id": "v0G2lglAHhls",
      "execution_count": 33,
      "outputs": [
        {
          "output_type": "stream",
          "name": "stdout",
          "text": [
            "  StudentID  Age  Marks\n",
            "0      S001   18   81.0\n",
            "1      S002   19   93.9\n",
            "2      S003   17   99.7\n",
            "3      S004   19   83.8\n",
            "4      S005   19  100.0\n"
          ]
        }
      ]
    },
    {
      "cell_type": "code",
      "source": [
        "# 3. Plot a histogram of a numerical column using Matplotlib\n",
        "# Histogram of marks\n",
        "plt.hist(df['Marks'], bins=5)\n",
        "plt.title(\"Histogram of Marks\")\n",
        "plt.xlabel(\"Marks\")\n",
        "plt.ylabel(\"Frequency\")\n",
        "plt.show()\n",
        "\n",
        "# Histogram of age\n",
        "plt.hist(df['Age'], bins=5)\n",
        "plt.title(\"Histogram of Age\")\n",
        "plt.xlabel(\"Age\")\n",
        "plt.ylabel(\"Frequency\")\n",
        "plt.show()"
      ],
      "metadata": {
        "colab": {
          "base_uri": "https://localhost:8080/",
          "height": 927
        },
        "id": "QbFrWeh1HlG9",
        "outputId": "ca843a34-587c-4db5-e692-463e20058ad6"
      },
      "id": "QbFrWeh1HlG9",
      "execution_count": 34,
      "outputs": [
        {
          "output_type": "display_data",
          "data": {
            "text/plain": [
              "<Figure size 640x480 with 1 Axes>"
            ],
            "image/png": "[encoded data removed]"
          },
          "metadata": {}
        },
        {
          "output_type": "display_data",
          "data": {
            "text/plain": [
              "<Figure size 640x480 with 1 Axes>"
            ],
            "image/png": "[encoded data removed]"
          },
          "metadata": {}
        }
      ]
    },
    {
      "cell_type": "code",
      "source": [
        "# 4. Filter a DataFrame for rows with marks > 90\n",
        "df_filtered = df[df['Marks'] > 90]\n",
        "print(df_filtered)"
      ],
      "metadata": {
        "colab": {
          "base_uri": "https://localhost:8080/"
        },
        "id": "43pJTMYDHnz4",
        "outputId": "44139f67-570c-422c-8347-91d54a88e882"
      },
      "id": "43pJTMYDHnz4",
      "execution_count": 35,
      "outputs": [
        {
          "output_type": "stream",
          "name": "stdout",
          "text": [
            "   StudentID  Age  Marks\n",
            "1       S002   19   93.9\n",
            "2       S003   17   99.7\n",
            "4       S005   19  100.0\n",
            "5       S006   16   97.3\n",
            "9       S010   19   94.2\n",
            "10      S011   18   94.7\n",
            "11      S012   17   92.4\n",
            "16      S017   18   91.5\n",
            "17      S018   19   93.9\n",
            "18      S019   15  100.0\n",
            "21      S022   19   99.2\n",
            "22      S023   18   98.7\n",
            "23      S024   15   97.9\n",
            "24      S025   15   91.2\n",
            "25      S026   17   93.2\n",
            "32      S033   18   99.6\n",
            "35      S036   19   91.4\n",
            "36      S037   17   92.2\n",
            "37      S038   19   92.4\n",
            "43      S044   16  100.0\n",
            "54      S055   17   95.9\n",
            "58      S059   18  100.0\n",
            "61      S062   18  100.0\n",
            "62      S063   19  100.0\n",
            "65      S066   18   91.7\n",
            "69      S070   18  100.0\n",
            "71      S072   19   97.2\n",
            "72      S073   19  100.0\n",
            "74      S075   19   95.3\n",
            "77      S078   18   94.3\n",
            "80      S081   19  100.0\n",
            "83      S084   19   92.3\n",
            "88      S089   18  100.0\n",
            "89      S090   17   93.7\n",
            "93      S094   17   92.4\n",
            "96      S097   19  100.0\n"
          ]
        }
      ]
    },
    {
      "cell_type": "code",
      "source": [
        "# 5. Use a scatter plot to visualize relationship between Age and Marks\n",
        "plt.scatter(df['Age'], df['Marks'])\n",
        "plt.title(\"Age vs Marks\")\n",
        "plt.xlabel(\"Age\")\n",
        "plt.ylabel(\"Marks\")\n",
        "plt.show()"
      ],
      "metadata": {
        "colab": {
          "base_uri": "https://localhost:8080/",
          "height": 472
        },
        "id": "fuFl2UzgHqIW",
        "outputId": "db6dab94-0366-4e61-d900-190c2b2f259a"
      },
      "id": "fuFl2UzgHqIW",
      "execution_count": 36,
      "outputs": [
        {
          "output_type": "display_data",
          "data": {
            "text/plain": [
              "<Figure size 640x480 with 1 Axes>"
            ],
            "image/png": "[encoded data removed]"
          },
          "metadata": {}
        }
      ]
    },
    {
      "cell_type": "code",
      "source": [
        "# 6. Try reading an Excel file using pd.read_excel if you have one\n",
        "df_excel = pd.read_excel(\"Untitled spreadsheet.xlsx\")\n",
        "df.head()"
      ],
      "metadata": {
        "id": "_dT9G1K5HsQo",
        "colab": {
          "base_uri": "https://localhost:8080/",
          "height": 206
        },
        "outputId": "a77432f4-881a-478f-93a3-23878f447fb2"
      },
      "id": "_dT9G1K5HsQo",
      "execution_count": 41,
      "outputs": [
        {
          "output_type": "execute_result",
          "data": {
            "text/plain": [
              "  StudentID  Age  Marks\n",
              "0      S001   18   81.0\n",
              "1      S002   19   93.9\n",
              "2      S003   17   99.7\n",
              "3      S004   19   83.8\n",
              "4      S005   19  100.0"
            ],
            "text/html": [
              "\n",
              "  <div id=\"df-c8dd6d2a-f7ed-4d3d-99d2-0bf7eb471958\" class=\"colab-df-container\">\n",
              "    <div>\n",
              "<style scoped>\n",
              "    .dataframe tbody tr th:only-of-type {\n",
              "        vertical-align: middle;\n",
              "    }\n",
              "\n",
              "    .dataframe tbody tr th {\n",
              "        vertical-align: top;\n",
              "    }\n",
              "\n",
              "    .dataframe thead th {\n",
              "        text-align: right;\n",
              "    }\n",
              "</style>\n",
              "<table border=\"1\" class=\"dataframe\">\n",
              "  <thead>\n",
              "    <tr style=\"text-align: right;\">\n",
              "      <th></th>\n",
              "      <th>StudentID</th>\n",
              "      <th>Age</th>\n",
              "      <th>Marks</th>\n",
              "    </tr>\n",
              "  </thead>\n",
              "  <tbody>\n",
              "    <tr>\n",
              "      <th>0</th>\n",
              "      <td>S001</td>\n",
              "      <td>18</td>\n",
              "      <td>81.0</td>\n",
              "    </tr>\n",
              "    <tr>\n",
              "      <th>1</th>\n",
              "      <td>S002</td>\n",
              "      <td>19</td>\n",
              "      <td>93.9</td>\n",
              "    </tr>\n",
              "    <tr>\n",
              "      <th>2</th>\n",
              "      <td>S003</td>\n",
              "      <td>17</td>\n",
              "      <td>99.7</td>\n",
              "    </tr>\n",
              "    <tr>\n",
              "      <th>3</th>\n",
              "      <td>S004</td>\n",
              "      <td>19</td>\n",
              "      <td>83.8</td>\n",
              "    </tr>\n",
              "    <tr>\n",
              "      <th>4</th>\n",
              "      <td>S005</td>\n",
              "      <td>19</td>\n",
              "      <td>100.0</td>\n",
              "    </tr>\n",
              "  </tbody>\n",
              "</table>\n",
              "</div>\n",
              "    <div class=\"colab-df-buttons\">\n",
              "\n",
              "  <div class=\"colab-df-container\">\n",
              "    <button class=\"colab-df-convert\" onclick=\"convertToInteractive('df-c8dd6d2a-f7ed-4d3d-99d2-0bf7eb471958')\"\n",
              "            title=\"Convert this dataframe to an interactive table.\"\n",
              "            style=\"display:none;\">\n",
              "\n",
              "  <svg xmlns=\"http://www.w3.org/2000/svg\" height=\"24px\" viewBox=\"0 -960 960 960\">\n",
              "    <path d=\"M120-120v-720h720v720H120Zm60-500h600v-160H180v160Zm220 220h160v-160H400v160Zm0 220h160v-160H400v160ZM180-400h160v-160H180v160Zm440 0h160v-160H620v160ZM180-180h160v-160H180v160Zm440 0h160v-160H620v160Z\"/>\n",
              "  </svg>\n",
              "    </button>\n",
              "\n",
              "  <style>\n",
              "    .colab-df-container {\n",
              "      display:flex;\n",
              "      gap: 12px;\n",
              "    }\n",
              "\n",
              "    .colab-df-convert {\n",
              "      background-color: #E8F0FE;\n",
              "      border: none;\n",
              "      border-radius: 50%;\n",
              "      cursor: pointer;\n",
              "      display: none;\n",
              "      fill: #1967D2;\n",
              "      height: 32px;\n",
              "      padding: 0 0 0 0;\n",
              "      width: 32px;\n",
              "    }\n",
              "\n",
              "    .colab-df-convert:hover {\n",
              "      background-color: #E2EBFA;\n",
              "      box-shadow: 0px 1px 2px rgba(60, 64, 67, 0.3), 0px 1px 3px 1px rgba(60, 64, 67, 0.15);\n",
              "      fill: #174EA6;\n",
              "    }\n",
              "\n",
              "    .colab-df-buttons div {\n",
              "      margin-bottom: 4px;\n",
              "    }\n",
              "\n",
              "    [theme=dark] .colab-df-convert {\n",
              "      background-color: #3B4455;\n",
              "      fill: #D2E3FC;\n",
              "    }\n",
              "\n",
              "    [theme=dark] .colab-df-convert:hover {\n",
              "      background-color: #434B5C;\n",
              "      box-shadow: 0px 1px 3px 1px rgba(0, 0, 0, 0.15);\n",
              "      filter: drop-shadow(0px 1px 2px rgba(0, 0, 0, 0.3));\n",
              "      fill: #FFFFFF;\n",
              "    }\n",
              "  </style>\n",
              "\n",
              "    <script>\n",
              "      const buttonEl =\n",
              "        document.querySelector('#df-c8dd6d2a-f7ed-4d3d-99d2-0bf7eb471958 button.colab-df-convert');\n",
              "      buttonEl.style.display =\n",
              "        google.colab.kernel.accessAllowed ? 'block' : 'none';\n",
              "\n",
              "      async function convertToInteractive(key) {\n",
              "        const element = document.querySelector('#df-c8dd6d2a-f7ed-4d3d-99d2-0bf7eb471958');\n",
              "        const dataTable =\n",
              "          await google.colab.kernel.invokeFunction('convertToInteractive',\n",
              "                                                    [key], {});\n",
              "        if (!dataTable) return;\n",
              "\n",
              "        const docLinkHtml = 'Like what you see? Visit the ' +\n",
              "          '<a target=\"_blank\" href=https://colab.research.google.com/notebooks/data_table.ipynb>data table notebook</a>'\n",
              "          + ' to learn more about interactive tables.';\n",
              "        element.innerHTML = '';\n",
              "        dataTable['output_type'] = 'display_data';\n",
              "        await google.colab.output.renderOutput(dataTable, element);\n",
              "        const docLink = document.createElement('div');\n",
              "        docLink.innerHTML = docLinkHtml;\n",
              "        element.appendChild(docLink);\n",
              "      }\n",
              "    </script>\n",
              "  </div>\n",
              "\n",
              "\n",
              "    <div id=\"df-751c46f6-2fa4-4f58-88ff-6388ac69c258\">\n",
              "      <button class=\"colab-df-quickchart\" onclick=\"quickchart('df-751c46f6-2fa4-4f58-88ff-6388ac69c258')\"\n",
              "                title=\"Suggest charts\"\n",
              "                style=\"display:none;\">\n",
              "\n",
              "<svg xmlns=\"http://www.w3.org/2000/svg\" height=\"24px\"viewBox=\"0 0 24 24\"\n",
              "     width=\"24px\">\n",
              "    <g>\n",
              "        <path d=\"M19 3H5c-1.1 0-2 .9-2 2v14c0 1.1.9 2 2 2h14c1.1 0 2-.9 2-2V5c0-1.1-.9-2-2-2zM9 17H7v-7h2v7zm4 0h-2V7h2v10zm4 0h-2v-4h2v4z\"/>\n",
              "    </g>\n",
              "</svg>\n",
              "      </button>\n",
              "\n",
              "<style>\n",
              "  .colab-df-quickchart {\n",
              "      --bg-color: #E8F0FE;\n",
              "      --fill-color: #1967D2;\n",
              "      --hover-bg-color: #E2EBFA;\n",
              "      --hover-fill-color: #174EA6;\n",
              "      --disabled-fill-color: #AAA;\n",
              "      --disabled-bg-color: #DDD;\n",
              "  }\n",
              "\n",
              "  [theme=dark] .colab-df-quickchart {\n",
              "      --bg-color: #3B4455;\n",
              "      --fill-color: #D2E3FC;\n",
              "      --hover-bg-color: #434B5C;\n",
              "      --hover-fill-color: #FFFFFF;\n",
              "      --disabled-bg-color: #3B4455;\n",
              "      --disabled-fill-color: #666;\n",
              "  }\n",
              "\n",
              "  .colab-df-quickchart {\n",
              "    background-color: var(--bg-color);\n",
              "    border: none;\n",
              "    border-radius: 50%;\n",
              "    cursor: pointer;\n",
              "    display: none;\n",
              "    fill: var(--fill-color);\n",
              "    height: 32px;\n",
              "    padding: 0;\n",
              "    width: 32px;\n",
              "  }\n",
              "\n",
              "  .colab-df-quickchart:hover {\n",
              "    background-color: var(--hover-bg-color);\n",
              "    box-shadow: 0 1px 2px rgba(60, 64, 67, 0.3), 0 1px 3px 1px rgba(60, 64, 67, 0.15);\n",
              "    fill: var(--button-hover-fill-color);\n",
              "  }\n",
              "\n",
              "  .colab-df-quickchart-complete:disabled,\n",
              "  .colab-df-quickchart-complete:disabled:hover {\n",
              "    background-color: var(--disabled-bg-color);\n",
              "    fill: var(--disabled-fill-color);\n",
              "    box-shadow: none;\n",
              "  }\n",
              "\n",
              "  .colab-df-spinner {\n",
              "    border: 2px solid var(--fill-color);\n",
              "    border-color: transparent;\n",
              "    border-bottom-color: var(--fill-color);\n",
              "    animation:\n",
              "      spin 1s steps(1) infinite;\n",
              "  }\n",
              "\n",
              "  @keyframes spin {\n",
              "    0% {\n",
              "      border-color: transparent;\n",
              "      border-bottom-color: var(--fill-color);\n",
              "      border-left-color: var(--fill-color);\n",
              "    }\n",
              "    20% {\n",
              "      border-color: transparent;\n",
              "      border-left-color: var(--fill-color);\n",
              "      border-top-color: var(--fill-color);\n",
              "    }\n",
              "    30% {\n",
              "      border-color: transparent;\n",
              "      border-left-color: var(--fill-color);\n",
              "      border-top-color: var(--fill-color);\n",
              "      border-right-color: var(--fill-color);\n",
              "    }\n",
              "    40% {\n",
              "      border-color: transparent;\n",
              "      border-right-color: var(--fill-color);\n",
              "      border-top-color: var(--fill-color);\n",
              "    }\n",
              "    60% {\n",
              "      border-color: transparent;\n",
              "      border-right-color: var(--fill-color);\n",
              "    }\n",
              "    80% {\n",
              "      border-color: transparent;\n",
              "      border-right-color: var(--fill-color);\n",
              "      border-bottom-color: var(--fill-color);\n",
              "    }\n",
              "    90% {\n",
              "      border-color: transparent;\n",
              "      border-bottom-color: var(--fill-color);\n",
              "    }\n",
              "  }\n",
              "</style>\n",
              "\n",
              "      <script>\n",
              "        async function quickchart(key) {\n",
              "          const quickchartButtonEl =\n",
              "            document.querySelector('#' + key + ' button');\n",
              "          quickchartButtonEl.disabled = true;  // To prevent multiple clicks.\n",
              "          quickchartButtonEl.classList.add('colab-df-spinner');\n",
              "          try {\n",
              "            const charts = await google.colab.kernel.invokeFunction(\n",
              "                'suggestCharts', [key], {});\n",
              "          } catch (error) {\n",
              "            console.error('Error during call to suggestCharts:', error);\n",
              "          }\n",
              "          quickchartButtonEl.classList.remove('colab-df-spinner');\n",
              "          quickchartButtonEl.classList.add('colab-df-quickchart-complete');\n",
              "        }\n",
              "        (() => {\n",
              "          let quickchartButtonEl =\n",
              "            document.querySelector('#df-751c46f6-2fa4-4f58-88ff-6388ac69c258 button');\n",
              "          quickchartButtonEl.style.display =\n",
              "            google.colab.kernel.accessAllowed ? 'block' : 'none';\n",
              "        })();\n",
              "      </script>\n",
              "    </div>\n",
              "\n",
              "    </div>\n",
              "  </div>\n"
            ],
            "application/vnd.google.colaboratory.intrinsic+json": {
              "type": "dataframe",
              "variable_name": "df",
              "summary": "{\n  \"name\": \"df\",\n  \"rows\": 100,\n  \"fields\": [\n    {\n      \"column\": \"StudentID\",\n      \"properties\": {\n        \"dtype\": \"string\",\n        \"num_unique_values\": 100,\n        \"samples\": [\n          \"S084\",\n          \"S054\",\n          \"S071\"\n        ],\n        \"semantic_type\": \"\",\n        \"description\": \"\"\n      }\n    },\n    {\n      \"column\": \"Age\",\n      \"properties\": {\n        \"dtype\": \"number\",\n        \"std\": 1,\n        \"min\": 15,\n        \"max\": 19,\n        \"num_unique_values\": 5,\n        \"samples\": [\n          19,\n          15,\n          17\n        ],\n        \"semantic_type\": \"\",\n        \"description\": \"\"\n      }\n    },\n    {\n      \"column\": \"Marks\",\n      \"properties\": {\n        \"dtype\": \"number\",\n        \"std\": 10.93168368005625,\n        \"min\": 57.9,\n        \"max\": 100.0,\n        \"num_unique_values\": 81,\n        \"samples\": [\n          99.6,\n          81.0,\n          91.2\n        ],\n        \"semantic_type\": \"\",\n        \"description\": \"\"\n      }\n    }\n  ]\n}"
            }
          },
          "metadata": {},
          "execution_count": 41
        }
      ]
    },
    {
      "cell_type": "code",
      "source": [
        "# 7. Merge two DataFrames on a common column\n",
        "StudentID = df['StudentID']\n",
        "result = []\n",
        "for i in df['Marks']:\n",
        "  if i > 30:\n",
        "    result.append('Pass')\n",
        "  else:\n",
        "    result.append('Fail')\n",
        "\n",
        "df2 = {'StudentID' : StudentID , 'result' : result}\n",
        "\n",
        "df_result = pd.DataFrame(df2)\n",
        "merged = pd.merge(df, df_result, on='StudentID')\n",
        "\n",
        "merged.head()"
      ],
      "metadata": {
        "id": "5VH7_dTWHvFT",
        "colab": {
          "base_uri": "https://localhost:8080/",
          "height": 206
        },
        "outputId": "8bc26db4-197c-43e7-a71b-0edd9e208db3"
      },
      "id": "5VH7_dTWHvFT",
      "execution_count": 45,
      "outputs": [
        {
          "output_type": "execute_result",
          "data": {
            "text/plain": [
              "  StudentID  Age  Marks result\n",
              "0      S001   18   81.0   Pass\n",
              "1      S002   19   93.9   Pass\n",
              "2      S003   17   99.7   Pass\n",
              "3      S004   19   83.8   Pass\n",
              "4      S005   19  100.0   Pass"
            ],
            "text/html": [
              "\n",
              "  <div id=\"df-f059011c-1b73-4b13-83cf-5476a2441216\" class=\"colab-df-container\">\n",
              "    <div>\n",
              "<style scoped>\n",
              "    .dataframe tbody tr th:only-of-type {\n",
              "        vertical-align: middle;\n",
              "    }\n",
              "\n",
              "    .dataframe tbody tr th {\n",
              "        vertical-align: top;\n",
              "    }\n",
              "\n",
              "    .dataframe thead th {\n",
              "        text-align: right;\n",
              "    }\n",
              "</style>\n",
              "<table border=\"1\" class=\"dataframe\">\n",
              "  <thead>\n",
              "    <tr style=\"text-align: right;\">\n",
              "      <th></th>\n",
              "      <th>StudentID</th>\n",
              "      <th>Age</th>\n",
              "      <th>Marks</th>\n",
              "      <th>result</th>\n",
              "    </tr>\n",
              "  </thead>\n",
              "  <tbody>\n",
              "    <tr>\n",
              "      <th>0</th>\n",
              "      <td>S001</td>\n",
              "      <td>18</td>\n",
              "      <td>81.0</td>\n",
              "      <td>Pass</td>\n",
              "    </tr>\n",
              "    <tr>\n",
              "      <th>1</th>\n",
              "      <td>S002</td>\n",
              "      <td>19</td>\n",
              "      <td>93.9</td>\n",
              "      <td>Pass</td>\n",
              "    </tr>\n",
              "    <tr>\n",
              "      <th>2</th>\n",
              "      <td>S003</td>\n",
              "      <td>17</td>\n",
              "      <td>99.7</td>\n",
              "      <td>Pass</td>\n",
              "    </tr>\n",
              "    <tr>\n",
              "      <th>3</th>\n",
              "      <td>S004</td>\n",
              "      <td>19</td>\n",
              "      <td>83.8</td>\n",
              "      <td>Pass</td>\n",
              "    </tr>\n",
              "    <tr>\n",
              "      <th>4</th>\n",
              "      <td>S005</td>\n",
              "      <td>19</td>\n",
              "      <td>100.0</td>\n",
              "      <td>Pass</td>\n",
              "    </tr>\n",
              "  </tbody>\n",
              "</table>\n",
              "</div>\n",
              "    <div class=\"colab-df-buttons\">\n",
              "\n",
              "  <div class=\"colab-df-container\">\n",
              "    <button class=\"colab-df-convert\" onclick=\"convertToInteractive('df-f059011c-1b73-4b13-83cf-5476a2441216')\"\n",
              "            title=\"Convert this dataframe to an interactive table.\"\n",
              "            style=\"display:none;\">\n",
              "\n",
              "  <svg xmlns=\"http://www.w3.org/2000/svg\" height=\"24px\" viewBox=\"0 -960 960 960\">\n",
              "    <path d=\"M120-120v-720h720v720H120Zm60-500h600v-160H180v160Zm220 220h160v-160H400v160Zm0 220h160v-160H400v160ZM180-400h160v-160H180v160Zm440 0h160v-160H620v160ZM180-180h160v-160H180v160Zm440 0h160v-160H620v160Z\"/>\n",
              "  </svg>\n",
              "    </button>\n",
              "\n",
              "  <style>\n",
              "    .colab-df-container {\n",
              "      display:flex;\n",
              "      gap: 12px;\n",
              "    }\n",
              "\n",
              "    .colab-df-convert {\n",
              "      background-color: #E8F0FE;\n",
              "      border: none;\n",
              "      border-radius: 50%;\n",
              "      cursor: pointer;\n",
              "      display: none;\n",
              "      fill: #1967D2;\n",
              "      height: 32px;\n",
              "      padding: 0 0 0 0;\n",
              "      width: 32px;\n",
              "    }\n",
              "\n",
              "    .colab-df-convert:hover {\n",
              "      background-color: #E2EBFA;\n",
              "      box-shadow: 0px 1px 2px rgba(60, 64, 67, 0.3), 0px 1px 3px 1px rgba(60, 64, 67, 0.15);\n",
              "      fill: #174EA6;\n",
              "    }\n",
              "\n",
              "    .colab-df-buttons div {\n",
              "      margin-bottom: 4px;\n",
              "    }\n",
              "\n",
              "    [theme=dark] .colab-df-convert {\n",
              "      background-color: #3B4455;\n",
              "      fill: #D2E3FC;\n",
              "    }\n",
              "\n",
              "    [theme=dark] .colab-df-convert:hover {\n",
              "      background-color: #434B5C;\n",
              "      box-shadow: 0px 1px 3px 1px rgba(0, 0, 0, 0.15);\n",
              "      filter: drop-shadow(0px 1px 2px rgba(0, 0, 0, 0.3));\n",
              "      fill: #FFFFFF;\n",
              "    }\n",
              "  </style>\n",
              "\n",
              "    <script>\n",
              "      const buttonEl =\n",
              "        document.querySelector('#df-f059011c-1b73-4b13-83cf-5476a2441216 button.colab-df-convert');\n",
              "      buttonEl.style.display =\n",
              "        google.colab.kernel.accessAllowed ? 'block' : 'none';\n",
              "\n",
              "      async function convertToInteractive(key) {\n",
              "        const element = document.querySelector('#df-f059011c-1b73-4b13-83cf-5476a2441216');\n",
              "        const dataTable =\n",
              "          await google.colab.kernel.invokeFunction('convertToInteractive',\n",
              "                                                    [key], {});\n",
              "        if (!dataTable) return;\n",
              "\n",
              "        const docLinkHtml = 'Like what you see? Visit the ' +\n",
              "          '<a target=\"_blank\" href=https://colab.research.google.com/notebooks/data_table.ipynb>data table notebook</a>'\n",
              "          + ' to learn more about interactive tables.';\n",
              "        element.innerHTML = '';\n",
              "        dataTable['output_type'] = 'display_data';\n",
              "        await google.colab.output.renderOutput(dataTable, element);\n",
              "        const docLink = document.createElement('div');\n",
              "        docLink.innerHTML = docLinkHtml;\n",
              "        element.appendChild(docLink);\n",
              "      }\n",
              "    </script>\n",
              "  </div>\n",
              "\n",
              "\n",
              "    <div id=\"df-048ae558-11bf-448b-a4ba-ff98230a8566\">\n",
              "      <button class=\"colab-df-quickchart\" onclick=\"quickchart('df-048ae558-11bf-448b-a4ba-ff98230a8566')\"\n",
              "                title=\"Suggest charts\"\n",
              "                style=\"display:none;\">\n",
              "\n",
              "<svg xmlns=\"http://www.w3.org/2000/svg\" height=\"24px\"viewBox=\"0 0 24 24\"\n",
              "     width=\"24px\">\n",
              "    <g>\n",
              "        <path d=\"M19 3H5c-1.1 0-2 .9-2 2v14c0 1.1.9 2 2 2h14c1.1 0 2-.9 2-2V5c0-1.1-.9-2-2-2zM9 17H7v-7h2v7zm4 0h-2V7h2v10zm4 0h-2v-4h2v4z\"/>\n",
              "    </g>\n",
              "</svg>\n",
              "      </button>\n",
              "\n",
              "<style>\n",
              "  .colab-df-quickchart {\n",
              "      --bg-color: #E8F0FE;\n",
              "      --fill-color: #1967D2;\n",
              "      --hover-bg-color: #E2EBFA;\n",
              "      --hover-fill-color: #174EA6;\n",
              "      --disabled-fill-color: #AAA;\n",
              "      --disabled-bg-color: #DDD;\n",
              "  }\n",
              "\n",
              "  [theme=dark] .colab-df-quickchart {\n",
              "      --bg-color: #3B4455;\n",
              "      --fill-color: #D2E3FC;\n",
              "      --hover-bg-color: #434B5C;\n",
              "      --hover-fill-color: #FFFFFF;\n",
              "      --disabled-bg-color: #3B4455;\n",
              "      --disabled-fill-color: #666;\n",
              "  }\n",
              "\n",
              "  .colab-df-quickchart {\n",
              "    background-color: var(--bg-color);\n",
              "    border: none;\n",
              "    border-radius: 50%;\n",
              "    cursor: pointer;\n",
              "    display: none;\n",
              "    fill: var(--fill-color);\n",
              "    height: 32px;\n",
              "    padding: 0;\n",
              "    width: 32px;\n",
              "  }\n",
              "\n",
              "  .colab-df-quickchart:hover {\n",
              "    background-color: var(--hover-bg-color);\n",
              "    box-shadow: 0 1px 2px rgba(60, 64, 67, 0.3), 0 1px 3px 1px rgba(60, 64, 67, 0.15);\n",
              "    fill: var(--button-hover-fill-color);\n",
              "  }\n",
              "\n",
              "  .colab-df-quickchart-complete:disabled,\n",
              "  .colab-df-quickchart-complete:disabled:hover {\n",
              "    background-color: var(--disabled-bg-color);\n",
              "    fill: var(--disabled-fill-color);\n",
              "    box-shadow: none;\n",
              "  }\n",
              "\n",
              "  .colab-df-spinner {\n",
              "    border: 2px solid var(--fill-color);\n",
              "    border-color: transparent;\n",
              "    border-bottom-color: var(--fill-color);\n",
              "    animation:\n",
              "      spin 1s steps(1) infinite;\n",
              "  }\n",
              "\n",
              "  @keyframes spin {\n",
              "    0% {\n",
              "      border-color: transparent;\n",
              "      border-bottom-color: var(--fill-color);\n",
              "      border-left-color: var(--fill-color);\n",
              "    }\n",
              "    20% {\n",
              "      border-color: transparent;\n",
              "      border-left-color: var(--fill-color);\n",
              "      border-top-color: var(--fill-color);\n",
              "    }\n",
              "    30% {\n",
              "      border-color: transparent;\n",
              "      border-left-color: var(--fill-color);\n",
              "      border-top-color: var(--fill-color);\n",
              "      border-right-color: var(--fill-color);\n",
              "    }\n",
              "    40% {\n",
              "      border-color: transparent;\n",
              "      border-right-color: var(--fill-color);\n",
              "      border-top-color: var(--fill-color);\n",
              "    }\n",
              "    60% {\n",
              "      border-color: transparent;\n",
              "      border-right-color: var(--fill-color);\n",
              "    }\n",
              "    80% {\n",
              "      border-color: transparent;\n",
              "      border-right-color: var(--fill-color);\n",
              "      border-bottom-color: var(--fill-color);\n",
              "    }\n",
              "    90% {\n",
              "      border-color: transparent;\n",
              "      border-bottom-color: var(--fill-color);\n",
              "    }\n",
              "  }\n",
              "</style>\n",
              "\n",
              "      <script>\n",
              "        async function quickchart(key) {\n",
              "          const quickchartButtonEl =\n",
              "            document.querySelector('#' + key + ' button');\n",
              "          quickchartButtonEl.disabled = true;  // To prevent multiple clicks.\n",
              "          quickchartButtonEl.classList.add('colab-df-spinner');\n",
              "          try {\n",
              "            const charts = await google.colab.kernel.invokeFunction(\n",
              "                'suggestCharts', [key], {});\n",
              "          } catch (error) {\n",
              "            console.error('Error during call to suggestCharts:', error);\n",
              "          }\n",
              "          quickchartButtonEl.classList.remove('colab-df-spinner');\n",
              "          quickchartButtonEl.classList.add('colab-df-quickchart-complete');\n",
              "        }\n",
              "        (() => {\n",
              "          let quickchartButtonEl =\n",
              "            document.querySelector('#df-048ae558-11bf-448b-a4ba-ff98230a8566 button');\n",
              "          quickchartButtonEl.style.display =\n",
              "            google.colab.kernel.accessAllowed ? 'block' : 'none';\n",
              "        })();\n",
              "      </script>\n",
              "    </div>\n",
              "\n",
              "    </div>\n",
              "  </div>\n"
            ],
            "application/vnd.google.colaboratory.intrinsic+json": {
              "type": "dataframe",
              "variable_name": "merged",
              "summary": "{\n  \"name\": \"merged\",\n  \"rows\": 100,\n  \"fields\": [\n    {\n      \"column\": \"StudentID\",\n      \"properties\": {\n        \"dtype\": \"string\",\n        \"num_unique_values\": 100,\n        \"samples\": [\n          \"S084\",\n          \"S054\",\n          \"S071\"\n        ],\n        \"semantic_type\": \"\",\n        \"description\": \"\"\n      }\n    },\n    {\n      \"column\": \"Age\",\n      \"properties\": {\n        \"dtype\": \"number\",\n        \"std\": 1,\n        \"min\": 15,\n        \"max\": 19,\n        \"num_unique_values\": 5,\n        \"samples\": [\n          19,\n          15,\n          17\n        ],\n        \"semantic_type\": \"\",\n        \"description\": \"\"\n      }\n    },\n    {\n      \"column\": \"Marks\",\n      \"properties\": {\n        \"dtype\": \"number\",\n        \"std\": 10.93168368005625,\n        \"min\": 57.9,\n        \"max\": 100.0,\n        \"num_unique_values\": 81,\n        \"samples\": [\n          99.6,\n          81.0,\n          91.2\n        ],\n        \"semantic_type\": \"\",\n        \"description\": \"\"\n      }\n    },\n    {\n      \"column\": \"result\",\n      \"properties\": {\n        \"dtype\": \"category\",\n        \"num_unique_values\": 1,\n        \"samples\": [\n          \"Pass\"\n        ],\n        \"semantic_type\": \"\",\n        \"description\": \"\"\n      }\n    }\n  ]\n}"
            }
          },
          "metadata": {},
          "execution_count": 45
        }
      ]
    },
    {
      "cell_type": "code",
      "source": [
        "# 8. Handle missing values in a DataFrame\n",
        "insurance_data = pd.read_csv('insurance.csv')\n",
        "insurance_data.head()\n",
        "\n",
        "#removing rows with missing values, this wouldn't have much impact as dataset is relatively large\n",
        "insurance_data_cleaned = insurance_data.dropna()\n",
        "insurance_data_cleaned.head()"
      ],
      "metadata": {
        "id": "3Jf2zjjaHxEC",
        "colab": {
          "base_uri": "https://localhost:8080/",
          "height": 206
        },
        "outputId": "be64d821-91c9-4ca7-ec6c-d483a8326f45"
      },
      "id": "3Jf2zjjaHxEC",
      "execution_count": 48,
      "outputs": [
        {
          "output_type": "execute_result",
          "data": {
            "text/plain": [
              "   age     sex   bmi  children smoker     region  expenses\n",
              "0   19  female  27.9         0    yes  southwest  16884.92\n",
              "1   18    male  33.8         1     no  southeast   1725.55\n",
              "2   28    male  33.0         3     no  southeast   4449.46\n",
              "3   33    male  22.7         0     no  northwest  21984.47\n",
              "4   32    male  28.9         0     no  northwest   3866.86"
            ],
            "text/html": [
              "\n",
              "  <div id=\"df-015a8786-274b-4488-811d-08f6be16b297\" class=\"colab-df-container\">\n",
              "    <div>\n",
              "<style scoped>\n",
              "    .dataframe tbody tr th:only-of-type {\n",
              "        vertical-align: middle;\n",
              "    }\n",
              "\n",
              "    .dataframe tbody tr th {\n",
              "        vertical-align: top;\n",
              "    }\n",
              "\n",
              "    .dataframe thead th {\n",
              "        text-align: right;\n",
              "    }\n",
              "</style>\n",
              "<table border=\"1\" class=\"dataframe\">\n",
              "  <thead>\n",
              "    <tr style=\"text-align: right;\">\n",
              "      <th></th>\n",
              "      <th>age</th>\n",
              "      <th>sex</th>\n",
              "      <th>bmi</th>\n",
              "      <th>children</th>\n",
              "      <th>smoker</th>\n",
              "      <th>region</th>\n",
              "      <th>expenses</th>\n",
              "    </tr>\n",
              "  </thead>\n",
              "  <tbody>\n",
              "    <tr>\n",
              "      <th>0</th>\n",
              "      <td>19</td>\n",
              "      <td>female</td>\n",
              "      <td>27.9</td>\n",
              "      <td>0</td>\n",
              "      <td>yes</td>\n",
              "      <td>southwest</td>\n",
              "      <td>16884.92</td>\n",
              "    </tr>\n",
              "    <tr>\n",
              "      <th>1</th>\n",
              "      <td>18</td>\n",
              "      <td>male</td>\n",
              "      <td>33.8</td>\n",
              "      <td>1</td>\n",
              "      <td>no</td>\n",
              "      <td>southeast</td>\n",
              "      <td>1725.55</td>\n",
              "    </tr>\n",
              "    <tr>\n",
              "      <th>2</th>\n",
              "      <td>28</td>\n",
              "      <td>male</td>\n",
              "      <td>33.0</td>\n",
              "      <td>3</td>\n",
              "      <td>no</td>\n",
              "      <td>southeast</td>\n",
              "      <td>4449.46</td>\n",
              "    </tr>\n",
              "    <tr>\n",
              "      <th>3</th>\n",
              "      <td>33</td>\n",
              "      <td>male</td>\n",
              "      <td>22.7</td>\n",
              "      <td>0</td>\n",
              "      <td>no</td>\n",
              "      <td>northwest</td>\n",
              "      <td>21984.47</td>\n",
              "    </tr>\n",
              "    <tr>\n",
              "      <th>4</th>\n",
              "      <td>32</td>\n",
              "      <td>male</td>\n",
              "      <td>28.9</td>\n",
              "      <td>0</td>\n",
              "      <td>no</td>\n",
              "      <td>northwest</td>\n",
              "      <td>3866.86</td>\n",
              "    </tr>\n",
              "  </tbody>\n",
              "</table>\n",
              "</div>\n",
              "    <div class=\"colab-df-buttons\">\n",
              "\n",
              "  <div class=\"colab-df-container\">\n",
              "    <button class=\"colab-df-convert\" onclick=\"convertToInteractive('df-015a8786-274b-4488-811d-08f6be16b297')\"\n",
              "            title=\"Convert this dataframe to an interactive table.\"\n",
              "            style=\"display:none;\">\n",
              "\n",
              "  <svg xmlns=\"http://www.w3.org/2000/svg\" height=\"24px\" viewBox=\"0 -960 960 960\">\n",
              "    <path d=\"M120-120v-720h720v720H120Zm60-500h600v-160H180v160Zm220 220h160v-160H400v160Zm0 220h160v-160H400v160ZM180-400h160v-160H180v160Zm440 0h160v-160H620v160ZM180-180h160v-160H180v160Zm440 0h160v-160H620v160Z\"/>\n",
              "  </svg>\n",
              "    </button>\n",
              "\n",
              "  <style>\n",
              "    .colab-df-container {\n",
              "      display:flex;\n",
              "      gap: 12px;\n",
              "    }\n",
              "\n",
              "    .colab-df-convert {\n",
              "      background-color: #E8F0FE;\n",
              "      border: none;\n",
              "      border-radius: 50%;\n",
              "      cursor: pointer;\n",
              "      display: none;\n",
              "      fill: #1967D2;\n",
              "      height: 32px;\n",
              "      padding: 0 0 0 0;\n",
              "      width: 32px;\n",
              "    }\n",
              "\n",
              "    .colab-df-convert:hover {\n",
              "      background-color: #E2EBFA;\n",
              "      box-shadow: 0px 1px 2px rgba(60, 64, 67, 0.3), 0px 1px 3px 1px rgba(60, 64, 67, 0.15);\n",
              "      fill: #174EA6;\n",
              "    }\n",
              "\n",
              "    .colab-df-buttons div {\n",
              "      margin-bottom: 4px;\n",
              "    }\n",
              "\n",
              "    [theme=dark] .colab-df-convert {\n",
              "      background-color: #3B4455;\n",
              "      fill: #D2E3FC;\n",
              "    }\n",
              "\n",
              "    [theme=dark] .colab-df-convert:hover {\n",
              "      background-color: #434B5C;\n",
              "      box-shadow: 0px 1px 3px 1px rgba(0, 0, 0, 0.15);\n",
              "      filter: drop-shadow(0px 1px 2px rgba(0, 0, 0, 0.3));\n",
              "      fill: #FFFFFF;\n",
              "    }\n",
              "  </style>\n",
              "\n",
              "    <script>\n",
              "      const buttonEl =\n",
              "        document.querySelector('#df-015a8786-274b-4488-811d-08f6be16b297 button.colab-df-convert');\n",
              "      buttonEl.style.display =\n",
              "        google.colab.kernel.accessAllowed ? 'block' : 'none';\n",
              "\n",
              "      async function convertToInteractive(key) {\n",
              "        const element = document.querySelector('#df-015a8786-274b-4488-811d-08f6be16b297');\n",
              "        const dataTable =\n",
              "          await google.colab.kernel.invokeFunction('convertToInteractive',\n",
              "                                                    [key], {});\n",
              "        if (!dataTable) return;\n",
              "\n",
              "        const docLinkHtml = 'Like what you see? Visit the ' +\n",
              "          '<a target=\"_blank\" href=https://colab.research.google.com/notebooks/data_table.ipynb>data table notebook</a>'\n",
              "          + ' to learn more about interactive tables.';\n",
              "        element.innerHTML = '';\n",
              "        dataTable['output_type'] = 'display_data';\n",
              "        await google.colab.output.renderOutput(dataTable, element);\n",
              "        const docLink = document.createElement('div');\n",
              "        docLink.innerHTML = docLinkHtml;\n",
              "        element.appendChild(docLink);\n",
              "      }\n",
              "    </script>\n",
              "  </div>\n",
              "\n",
              "\n",
              "    <div id=\"df-ac976159-11eb-42ae-9fd9-dc938d92427d\">\n",
              "      <button class=\"colab-df-quickchart\" onclick=\"quickchart('df-ac976159-11eb-42ae-9fd9-dc938d92427d')\"\n",
              "                title=\"Suggest charts\"\n",
              "                style=\"display:none;\">\n",
              "\n",
              "<svg xmlns=\"http://www.w3.org/2000/svg\" height=\"24px\"viewBox=\"0 0 24 24\"\n",
              "     width=\"24px\">\n",
              "    <g>\n",
              "        <path d=\"M19 3H5c-1.1 0-2 .9-2 2v14c0 1.1.9 2 2 2h14c1.1 0 2-.9 2-2V5c0-1.1-.9-2-2-2zM9 17H7v-7h2v7zm4 0h-2V7h2v10zm4 0h-2v-4h2v4z\"/>\n",
              "    </g>\n",
              "</svg>\n",
              "      </button>\n",
              "\n",
              "<style>\n",
              "  .colab-df-quickchart {\n",
              "      --bg-color: #E8F0FE;\n",
              "      --fill-color: #1967D2;\n",
              "      --hover-bg-color: #E2EBFA;\n",
              "      --hover-fill-color: #174EA6;\n",
              "      --disabled-fill-color: #AAA;\n",
              "      --disabled-bg-color: #DDD;\n",
              "  }\n",
              "\n",
              "  [theme=dark] .colab-df-quickchart {\n",
              "      --bg-color: #3B4455;\n",
              "      --fill-color: #D2E3FC;\n",
              "      --hover-bg-color: #434B5C;\n",
              "      --hover-fill-color: #FFFFFF;\n",
              "      --disabled-bg-color: #3B4455;\n",
              "      --disabled-fill-color: #666;\n",
              "  }\n",
              "\n",
              "  .colab-df-quickchart {\n",
              "    background-color: var(--bg-color);\n",
              "    border: none;\n",
              "    border-radius: 50%;\n",
              "    cursor: pointer;\n",
              "    display: none;\n",
              "    fill: var(--fill-color);\n",
              "    height: 32px;\n",
              "    padding: 0;\n",
              "    width: 32px;\n",
              "  }\n",
              "\n",
              "  .colab-df-quickchart:hover {\n",
              "    background-color: var(--hover-bg-color);\n",
              "    box-shadow: 0 1px 2px rgba(60, 64, 67, 0.3), 0 1px 3px 1px rgba(60, 64, 67, 0.15);\n",
              "    fill: var(--button-hover-fill-color);\n",
              "  }\n",
              "\n",
              "  .colab-df-quickchart-complete:disabled,\n",
              "  .colab-df-quickchart-complete:disabled:hover {\n",
              "    background-color: var(--disabled-bg-color);\n",
              "    fill: var(--disabled-fill-color);\n",
              "    box-shadow: none;\n",
              "  }\n",
              "\n",
              "  .colab-df-spinner {\n",
              "    border: 2px solid var(--fill-color);\n",
              "    border-color: transparent;\n",
              "    border-bottom-color: var(--fill-color);\n",
              "    animation:\n",
              "      spin 1s steps(1) infinite;\n",
              "  }\n",
              "\n",
              "  @keyframes spin {\n",
              "    0% {\n",
              "      border-color: transparent;\n",
              "      border-bottom-color: var(--fill-color);\n",
              "      border-left-color: var(--fill-color);\n",
              "    }\n",
              "    20% {\n",
              "      border-color: transparent;\n",
              "      border-left-color: var(--fill-color);\n",
              "      border-top-color: var(--fill-color);\n",
              "    }\n",
              "    30% {\n",
              "      border-color: transparent;\n",
              "      border-left-color: var(--fill-color);\n",
              "      border-top-color: var(--fill-color);\n",
              "      border-right-color: var(--fill-color);\n",
              "    }\n",
              "    40% {\n",
              "      border-color: transparent;\n",
              "      border-right-color: var(--fill-color);\n",
              "      border-top-color: var(--fill-color);\n",
              "    }\n",
              "    60% {\n",
              "      border-color: transparent;\n",
              "      border-right-color: var(--fill-color);\n",
              "    }\n",
              "    80% {\n",
              "      border-color: transparent;\n",
              "      border-right-color: var(--fill-color);\n",
              "      border-bottom-color: var(--fill-color);\n",
              "    }\n",
              "    90% {\n",
              "      border-color: transparent;\n",
              "      border-bottom-color: var(--fill-color);\n",
              "    }\n",
              "  }\n",
              "</style>\n",
              "\n",
              "      <script>\n",
              "        async function quickchart(key) {\n",
              "          const quickchartButtonEl =\n",
              "            document.querySelector('#' + key + ' button');\n",
              "          quickchartButtonEl.disabled = true;  // To prevent multiple clicks.\n",
              "          quickchartButtonEl.classList.add('colab-df-spinner');\n",
              "          try {\n",
              "            const charts = await google.colab.kernel.invokeFunction(\n",
              "                'suggestCharts', [key], {});\n",
              "          } catch (error) {\n",
              "            console.error('Error during call to suggestCharts:', error);\n",
              "          }\n",
              "          quickchartButtonEl.classList.remove('colab-df-spinner');\n",
              "          quickchartButtonEl.classList.add('colab-df-quickchart-complete');\n",
              "        }\n",
              "        (() => {\n",
              "          let quickchartButtonEl =\n",
              "            document.querySelector('#df-ac976159-11eb-42ae-9fd9-dc938d92427d button');\n",
              "          quickchartButtonEl.style.display =\n",
              "            google.colab.kernel.accessAllowed ? 'block' : 'none';\n",
              "        })();\n",
              "      </script>\n",
              "    </div>\n",
              "\n",
              "    </div>\n",
              "  </div>\n"
            ],
            "application/vnd.google.colaboratory.intrinsic+json": {
              "type": "dataframe",
              "variable_name": "insurance_data_cleaned",
              "summary": "{\n  \"name\": \"insurance_data_cleaned\",\n  \"rows\": 1338,\n  \"fields\": [\n    {\n      \"column\": \"age\",\n      \"properties\": {\n        \"dtype\": \"number\",\n        \"std\": 14,\n        \"min\": 18,\n        \"max\": 64,\n        \"num_unique_values\": 47,\n        \"samples\": [\n          21,\n          45,\n          36\n        ],\n        \"semantic_type\": \"\",\n        \"description\": \"\"\n      }\n    },\n    {\n      \"column\": \"sex\",\n      \"properties\": {\n        \"dtype\": \"category\",\n        \"num_unique_values\": 2,\n        \"samples\": [\n          \"male\",\n          \"female\"\n        ],\n        \"semantic_type\": \"\",\n        \"description\": \"\"\n      }\n    },\n    {\n      \"column\": \"bmi\",\n      \"properties\": {\n        \"dtype\": \"number\",\n        \"std\": 6.098382190003366,\n        \"min\": 16.0,\n        \"max\": 53.1,\n        \"num_unique_values\": 275,\n        \"samples\": [\n          28.6,\n          20.9\n        ],\n        \"semantic_type\": \"\",\n        \"description\": \"\"\n      }\n    },\n    {\n      \"column\": \"children\",\n      \"properties\": {\n        \"dtype\": \"number\",\n        \"std\": 1,\n        \"min\": 0,\n        \"max\": 5,\n        \"num_unique_values\": 6,\n        \"samples\": [\n          0,\n          1\n        ],\n        \"semantic_type\": \"\",\n        \"description\": \"\"\n      }\n    },\n    {\n      \"column\": \"smoker\",\n      \"properties\": {\n        \"dtype\": \"category\",\n        \"num_unique_values\": 2,\n        \"samples\": [\n          \"no\",\n          \"yes\"\n        ],\n        \"semantic_type\": \"\",\n        \"description\": \"\"\n      }\n    },\n    {\n      \"column\": \"region\",\n      \"properties\": {\n        \"dtype\": \"category\",\n        \"num_unique_values\": 4,\n        \"samples\": [\n          \"southeast\",\n          \"northeast\"\n        ],\n        \"semantic_type\": \"\",\n        \"description\": \"\"\n      }\n    },\n    {\n      \"column\": \"expenses\",\n      \"properties\": {\n        \"dtype\": \"number\",\n        \"std\": 12110.011239706457,\n        \"min\": 1121.87,\n        \"max\": 63770.43,\n        \"num_unique_values\": 1337,\n        \"samples\": [\n          8688.86,\n          5708.87\n        ],\n        \"semantic_type\": \"\",\n        \"description\": \"\"\n      }\n    }\n  ]\n}"
            }
          },
          "metadata": {},
          "execution_count": 48
        }
      ]
    },
    {
      "cell_type": "code",
      "source": [
        "# 9. Simulate a grayscale image and display its pixel values using NumPy\n",
        "img = np.random.randint(0, 256, (100, 100), dtype=np.uint8)\n",
        "print(\"Simulated Grayscale Image Array:\\n\", img)\n",
        "\n",
        "plt.imshow(img, cmap='gray')\n",
        "plt.title(\"Simulated image\")\n",
        "plt.axis('off')\n",
        "plt.show()"
      ],
      "metadata": {
        "id": "b5MZdO6yHziC",
        "colab": {
          "base_uri": "https://localhost:8080/",
          "height": 567
        },
        "outputId": "e3877630-c69d-415b-c6e0-46a743db8345"
      },
      "id": "b5MZdO6yHziC",
      "execution_count": 43,
      "outputs": [
        {
          "output_type": "stream",
          "name": "stdout",
          "text": [
            "Simulated Grayscale Image Array:\n",
            " [[ 70 189 196 ... 131   0   1]\n",
            " [142  80 101 ... 131 255 208]\n",
            " [230  94  73 ... 155 182 217]\n",
            " ...\n",
            " [ 81 149  53 ... 244 165 197]\n",
            " [161  61 100 ... 163 212 174]\n",
            " [ 47 187 169 ... 143  84 152]]\n"
          ]
        },
        {
          "output_type": "display_data",
          "data": {
            "text/plain": [
              "<Figure size 640x480 with 1 Axes>"
            ],
            "image/png": "[encoded data removed]"
          },
          "metadata": {}
        }
      ]
    }
  ],
  "metadata": {
    "language_info": {
      "name": "python"
    },
    "colab": {
      "provenance": []
    },
    "kernelspec": {
      "name": "python3",
      "display_name": "Python 3"
    }
  },
  "nbformat": 4,
  "nbformat_minor": 5
}